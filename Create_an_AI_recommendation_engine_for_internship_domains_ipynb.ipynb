{
  "nbformat": 4,
  "nbformat_minor": 0,
  "metadata": {
    "colab": {
      "provenance": [],
      "authorship_tag": "ABX9TyNVat7JGAju8UeY3CuZ/KiS",
      "include_colab_link": true
    },
    "kernelspec": {
      "name": "python3",
      "display_name": "Python 3"
    },
    "language_info": {
      "name": "python"
    }
  },
  "cells": [
    {
      "cell_type": "markdown",
      "metadata": {
        "id": "view-in-github",
        "colab_type": "text"
      },
      "source": [
        "<a href=\"https://colab.research.google.com/github/surya323-ma/Create-an-AI-recommendation-engine-for-internship-domains/blob/main/Create_an_AI_recommendation_engine_for_internship_domains_ipynb.ipynb\" target=\"_parent\"><img src=\"https://colab.research.google.com/assets/colab-badge.svg\" alt=\"Open In Colab\"/></a>"
      ]
    },
    {
      "cell_type": "code",
      "source": [],
      "metadata": {
        "id": "mf94-lWzpZqM"
      },
      "execution_count": null,
      "outputs": []
    },
    {
      "cell_type": "code",
      "execution_count": null,
      "metadata": {
        "colab": {
          "base_uri": "https://localhost:8080/"
        },
        "id": "_JcAkjC_oZHK",
        "outputId": "fe95c195-cb0f-4f69-9435-394b93384b04"
      },
      "outputs": [
        {
          "output_type": "stream",
          "name": "stdout",
          "text": [
            "=== AI Internship Domain Recommendation Engine ===\n",
            "\n",
            "Enter your interests, separated by commas (e.g., python, machine learning, design):\n"
          ]
        }
      ],
      "source": [
        "\n",
        "\n",
        "from sklearn.feature_extraction.text import TfidfVectorizer\n",
        "from sklearn.metrics.pairwise import cosine_similarity\n",
        "import numpy as np\n",
        "\n",
        "\n",
        "# Define internship domains with descriptive keyword texts\n",
        "DOMAIN_PROFILES = {\n",
        "    \"Software Development\": \"software programming coding development javascript python java c++ backend frontend fullstack algorithms data structures\",\n",
        "    \"Data Science / Analytics\": \"data analytics statistics python r machine learning ai artificial intelligence pandas numpy visualization\",\n",
        "    \"Design / UX\": \"design ux ui graphic creative photoshop illustrator adobe figma prototype user interface user experience\",\n",
        "    \"Marketing\": \"marketing seo content advertising social media branding campaign digital market research\",\n",
        "    \"Finance\": \"finance accounting investment stocks budgeting economic financial analysis auditing\",\n",
        "    \"Research / Science\": \"research science laboratory experiments biotech statistics analysis academic\",\n",
        "    \"Writing / Content\": \"writing content blogging copywriting editorial creative communication storytelling\",\n",
        "    \"Hardware / Embedded Systems\": \"hardware embedded circuit pcb iot microcontroller electronics robotics\",\n",
        "    \"Education / Training\": \"education teaching training curriculum lesson tutor coaching facilitation\"\n",
        "}\n",
        "\n",
        "\n",
        "def build_profiles(domain_profiles):\n",
        "    \"\"\"Build a list of domain names and corresponding profile documents.\"\"\"\n",
        "    domain_names = list(domain_profiles.keys())\n",
        "    documents = list(domain_profiles.values())\n",
        "    return domain_names, documents\n",
        "\n",
        "\n",
        "def recommend_internship_domains(user_profile_text, domain_names, domain_docs, top_n=3):\n",
        "    \"\"\"\n",
        "    Recommend internship domains for a user profile text based on\n",
        "    cosine similarity between user input and domain profiles using TF-IDF.\n",
        "\n",
        "    Args:\n",
        "        user_profile_text (str): Combined user interests and experience text.\n",
        "        domain_names (list): List of domain names.\n",
        "        domain_docs (list): List of domain profile descriptive documents.\n",
        "        top_n (int): Number of top recommendations to return.\n",
        "\n",
        "    Returns:\n",
        "        list: List of top_n recommended domain names.\n",
        "    \"\"\"\n",
        "    # Combine domain docs and user profile doc for vectorization\n",
        "    corpus = domain_docs + [user_profile_text]\n",
        "\n",
        "    vectorizer = TfidfVectorizer(stop_words='english')\n",
        "    tfidf_matrix = vectorizer.fit_transform(corpus)\n",
        "\n",
        "    # Last vector is user profile\n",
        "    user_vec = tfidf_matrix[-1]\n",
        "    domain_vecs = tfidf_matrix[:-1]\n",
        "\n",
        "    similarities = cosine_similarity(user_vec, domain_vecs).flatten()\n",
        "\n",
        "    # Get indices of top_n similar domains in descending order\n",
        "    top_indices = np.argsort(similarities)[::-1][:top_n]\n",
        "\n",
        "    recommendations = [(domain_names[i], similarities[i]) for i in top_indices if similarities[i] > 0]\n",
        "\n",
        "    return recommendations\n",
        "\n",
        "\n",
        "def format_recommendations(recommendations):\n",
        "    \"\"\"\n",
        "    Format recommendation list with scores for display.\n",
        "\n",
        "    Args:\n",
        "        recommendations (list): List of tuples (domain_name, score)\n",
        "\n",
        "    Returns:\n",
        "        str: Formatted recommendations string.\n",
        "    \"\"\"\n",
        "    if not recommendations:\n",
        "        return \"No strong matches found. Please consider adding more details.\"\n",
        "\n",
        "    lines = []\n",
        "    for domain, score in recommendations:\n",
        "        lines.append(f\"- {domain} (Similarity score: {score:.2f})\")\n",
        "\n",
        "    return \"\\n\".join(lines)\n",
        "\n",
        "\n",
        "def main():\n",
        "    print(\"=== AI Internship Domain Recommendation Engine ===\\n\")\n",
        "\n",
        "    # Collect user profile input from CLI\n",
        "    print(\"Enter your interests, separated by commas (e.g., python, machine learning, design):\")\n",
        "    interests = input(\"> \").strip()\n",
        "\n",
        "    print(\"Briefly describe your past experiences or skills:\")\n",
        "    experience = input(\"> \").strip()\n",
        "\n",
        "    # Combine inputs as user profile text\n",
        "    user_profile_text = \"\"\n",
        "    if interests:\n",
        "        user_profile_text += \" \".join(interests.lower().split(\",\"))\n",
        "    if experience:\n",
        "        user_profile_text += \" \" + experience.lower()\n",
        "\n",
        "    domain_names, domain_docs = build_profiles(DOMAIN_PROFILES)\n",
        "\n",
        "    recommendations = recommend_internship_domains(user_profile_text, domain_names, domain_docs, top_n=3)\n",
        "\n",
        "    print(\"\\nRecommended Internship Domains:\")\n",
        "    print(format_recommendations(recommendations))\n",
        "\n",
        "\n",
        "if __name__ == \"__main__\":\n",
        "    main()\n",
        "\n"
      ]
    }
  ]
}